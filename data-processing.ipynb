{
 "cells": [
  {
   "cell_type": "code",
   "execution_count": 1,
   "id": "5847d21a",
   "metadata": {},
   "outputs": [],
   "source": [
    "import pandas as pd\n",
    "import numpy as np\n",
    "import os\n",
    "pd.set_option('display.max_columns', None)  "
   ]
  },
  {
   "cell_type": "markdown",
   "id": "ed5d1895",
   "metadata": {},
   "source": [
    "# Download and process crime files\n",
    "\n",
    "These files come from the [City of Milwaukee's Open Data portal](https://data.milwaukee.gov/dataset?q=crime&sort=score+desc%2C+metadata_modified+desc). The \"current\" file is updated daily and contains individual incidents dating to the start of 2021. The historical file contains incidents from 2005-2020.\n",
    "\n",
    "## Download and process historical file (disregard this section after first run)"
   ]
  },
  {
   "cell_type": "code",
   "execution_count": 2,
   "id": "e1d9337c",
   "metadata": {},
   "outputs": [],
   "source": [
    "# ####### ONLY RUN IF FIRST TIME downloading historical data #################\n",
    "# historical_url = 'https://data.milwaukee.gov/dataset/5a537f5c-10d7-40a2-9b93-3527a4c89fbd/resource/395db729-a30a-4e53-ab66-faeb5e1899c8/download/wibrarchive.csv'\n",
    "# hist_raw = pd.read_csv(historical_url, low_memory=False)\n",
    "\n",
    "crime_data_dest = 'data/crime/'"
   ]
  },
  {
   "cell_type": "code",
   "execution_count": 3,
   "id": "c8f67d75",
   "metadata": {},
   "outputs": [],
   "source": [
    "# hist_raw.head(5)"
   ]
  },
  {
   "cell_type": "code",
   "execution_count": 4,
   "id": "59886ad7",
   "metadata": {},
   "outputs": [],
   "source": [
    "# hist_raw.info()"
   ]
  },
  {
   "cell_type": "markdown",
   "id": "2067ec95",
   "metadata": {},
   "source": [
    "ReportedDateTime needs to get converted to datetime format."
   ]
  },
  {
   "cell_type": "code",
   "execution_count": 5,
   "id": "aa8ce7b6",
   "metadata": {},
   "outputs": [],
   "source": [
    "# hist_raw.ReportedDateTime = pd.to_datetime(hist_raw.ReportedDateTime)"
   ]
  },
  {
   "cell_type": "code",
   "execution_count": 6,
   "id": "4141c782",
   "metadata": {},
   "outputs": [],
   "source": [
    "### write locally so we don't have to download each time\n",
    "# hist_raw.to_csv(crime_data_dest + 'historical.csv', index=None)"
   ]
  },
  {
   "cell_type": "code",
   "execution_count": 7,
   "id": "74a1604c",
   "metadata": {},
   "outputs": [],
   "source": [
    "###### RUN THIS ONLY IF NOT FIRST TIME ############\n",
    "### read local copy\n",
    "hist_raw = pd.read_csv(crime_data_dest + 'historical.csv', low_memory=False)"
   ]
  },
  {
   "cell_type": "markdown",
   "id": "2843cadd",
   "metadata": {},
   "source": [
    "## Download current file (updated daily)"
   ]
  },
  {
   "cell_type": "code",
   "execution_count": 12,
   "id": "a6abbd61",
   "metadata": {},
   "outputs": [],
   "source": [
    "current_url = 'https://data.milwaukee.gov/dataset/e5feaad3-ee73-418c-b65d-ef810c199390/resource/87843297-a6fa-46d4-ba5d-cb342fb2d3bb/download/wibr.csv'\n",
    "current_raw = pd.read_csv(current_url, low_memory=False)\n",
    "\n",
    "crime_data_dest = 'data/crime/'\n",
    "\n",
    "### write locally so we don't have to download if needing offline access\n",
    "current_raw.to_csv(crime_data_dest + 'current.csv', index=None)"
   ]
  },
  {
   "cell_type": "code",
   "execution_count": 8,
   "id": "7c0bc2c8",
   "metadata": {},
   "outputs": [],
   "source": [
    "current_raw = pd.read_csv(crime_data_dest + 'current.csv', low_memory=False)"
   ]
  },
  {
   "cell_type": "code",
   "execution_count": 10,
   "id": "180dba19",
   "metadata": {},
   "outputs": [
    {
     "data": {
      "text/html": [
       "<div>\n",
       "<style scoped>\n",
       "    .dataframe tbody tr th:only-of-type {\n",
       "        vertical-align: middle;\n",
       "    }\n",
       "\n",
       "    .dataframe tbody tr th {\n",
       "        vertical-align: top;\n",
       "    }\n",
       "\n",
       "    .dataframe thead th {\n",
       "        text-align: right;\n",
       "    }\n",
       "</style>\n",
       "<table border=\"1\" class=\"dataframe\">\n",
       "  <thead>\n",
       "    <tr style=\"text-align: right;\">\n",
       "      <th></th>\n",
       "      <th>IncidentNum</th>\n",
       "      <th>ReportedDateTime</th>\n",
       "      <th>ReportedYear</th>\n",
       "      <th>ReportedMonth</th>\n",
       "      <th>Location</th>\n",
       "      <th>WeaponUsed</th>\n",
       "      <th>ALD</th>\n",
       "      <th>NSP</th>\n",
       "      <th>POLICE</th>\n",
       "      <th>TRACT</th>\n",
       "      <th>WARD</th>\n",
       "      <th>ZIP</th>\n",
       "      <th>RoughX</th>\n",
       "      <th>RoughY</th>\n",
       "      <th>Arson</th>\n",
       "      <th>AssaultOffense</th>\n",
       "      <th>Burglary</th>\n",
       "      <th>CriminalDamage</th>\n",
       "      <th>Homicide</th>\n",
       "      <th>LockedVehicle</th>\n",
       "      <th>Robbery</th>\n",
       "      <th>SexOffense</th>\n",
       "      <th>Theft</th>\n",
       "      <th>VehicleTheft</th>\n",
       "    </tr>\n",
       "  </thead>\n",
       "  <tbody>\n",
       "    <tr>\n",
       "      <th>0</th>\n",
       "      <td>211900041</td>\n",
       "      <td>2021-07-09 06:30:00</td>\n",
       "      <td>2021</td>\n",
       "      <td>7</td>\n",
       "      <td>3635 N 8TH ST</td>\n",
       "      <td>ASPHYXIATION</td>\n",
       "      <td>6.0</td>\n",
       "      <td>4.0</td>\n",
       "      <td>5.0</td>\n",
       "      <td>4500.0</td>\n",
       "      <td>118.0</td>\n",
       "      <td>53206.0</td>\n",
       "      <td>2.555342e+06</td>\n",
       "      <td>401918.959099</td>\n",
       "      <td>0</td>\n",
       "      <td>1</td>\n",
       "      <td>0</td>\n",
       "      <td>0</td>\n",
       "      <td>0</td>\n",
       "      <td>0</td>\n",
       "      <td>0</td>\n",
       "      <td>0</td>\n",
       "      <td>0</td>\n",
       "      <td>0</td>\n",
       "    </tr>\n",
       "  </tbody>\n",
       "</table>\n",
       "</div>"
      ],
      "text/plain": [
       "   IncidentNum     ReportedDateTime  ReportedYear  ReportedMonth  \\\n",
       "0    211900041  2021-07-09 06:30:00          2021              7   \n",
       "\n",
       "        Location    WeaponUsed  ALD  NSP  POLICE   TRACT   WARD      ZIP  \\\n",
       "0  3635 N 8TH ST  ASPHYXIATION  6.0  4.0     5.0  4500.0  118.0  53206.0   \n",
       "\n",
       "         RoughX         RoughY  Arson  AssaultOffense  Burglary  \\\n",
       "0  2.555342e+06  401918.959099      0               1         0   \n",
       "\n",
       "   CriminalDamage  Homicide  LockedVehicle  Robbery  SexOffense  Theft  \\\n",
       "0               0         0              0        0           0      0   \n",
       "\n",
       "   VehicleTheft  \n",
       "0             0  "
      ]
     },
     "execution_count": 10,
     "metadata": {},
     "output_type": "execute_result"
    }
   ],
   "source": [
    "current_raw.head(1)"
   ]
  },
  {
   "cell_type": "code",
   "execution_count": 6,
   "id": "42f74a7b",
   "metadata": {},
   "outputs": [
    {
     "name": "stdout",
     "output_type": "stream",
     "text": [
      "<class 'pandas.core.frame.DataFrame'>\n",
      "RangeIndex: 19495 entries, 0 to 19494\n",
      "Data columns (total 24 columns):\n",
      " #   Column            Non-Null Count  Dtype  \n",
      "---  ------            --------------  -----  \n",
      " 0   IncidentNum       19495 non-null  int64  \n",
      " 1   ReportedDateTime  19495 non-null  object \n",
      " 2   ReportedYear      19495 non-null  int64  \n",
      " 3   ReportedMonth     19495 non-null  int64  \n",
      " 4   Location          19170 non-null  object \n",
      " 5   WeaponUsed        6621 non-null   object \n",
      " 6   ALD               19260 non-null  float64\n",
      " 7   NSP               11555 non-null  float64\n",
      " 8   POLICE            19297 non-null  float64\n",
      " 9   TRACT             19254 non-null  float64\n",
      " 10  WARD              19277 non-null  float64\n",
      " 11  ZIP               19369 non-null  float64\n",
      " 12  RoughX            19369 non-null  float64\n",
      " 13  RoughY            19369 non-null  float64\n",
      " 14  Arson             19495 non-null  int64  \n",
      " 15  AssaultOffense    19495 non-null  int64  \n",
      " 16  Burglary          19495 non-null  int64  \n",
      " 17  CriminalDamage    19495 non-null  int64  \n",
      " 18  Homicide          19495 non-null  int64  \n",
      " 19  LockedVehicle     19495 non-null  int64  \n",
      " 20  Robbery           19495 non-null  int64  \n",
      " 21  SexOffense        19495 non-null  int64  \n",
      " 22  Theft             19495 non-null  int64  \n",
      " 23  VehicleTheft      19495 non-null  int64  \n",
      "dtypes: float64(8), int64(13), object(3)\n",
      "memory usage: 3.6+ MB\n"
     ]
    }
   ],
   "source": [
    "current_raw.info()"
   ]
  },
  {
   "cell_type": "markdown",
   "id": "9b607842",
   "metadata": {},
   "source": [
    "## Combine current with historical"
   ]
  },
  {
   "cell_type": "code",
   "execution_count": 7,
   "id": "ce929d1e",
   "metadata": {},
   "outputs": [],
   "source": [
    "crime = hist_raw.append(current_raw)"
   ]
  },
  {
   "cell_type": "code",
   "execution_count": 8,
   "id": "52394240",
   "metadata": {},
   "outputs": [],
   "source": [
    "## convert to datetime format\n",
    "crime.ReportedDateTime = pd.to_datetime(crime.ReportedDateTime)"
   ]
  },
  {
   "cell_type": "code",
   "execution_count": 13,
   "id": "76967020",
   "metadata": {},
   "outputs": [],
   "source": [
    "### add total column\n",
    "crime['Total'] = crime.iloc[:,-10:].sum(axis=1)"
   ]
  },
  {
   "cell_type": "code",
   "execution_count": 15,
   "id": "76714f74",
   "metadata": {},
   "outputs": [
    {
     "data": {
      "text/html": [
       "<div>\n",
       "<style scoped>\n",
       "    .dataframe tbody tr th:only-of-type {\n",
       "        vertical-align: middle;\n",
       "    }\n",
       "\n",
       "    .dataframe tbody tr th {\n",
       "        vertical-align: top;\n",
       "    }\n",
       "\n",
       "    .dataframe thead th {\n",
       "        text-align: right;\n",
       "    }\n",
       "</style>\n",
       "<table border=\"1\" class=\"dataframe\">\n",
       "  <thead>\n",
       "    <tr style=\"text-align: right;\">\n",
       "      <th></th>\n",
       "      <th>IncidentNum</th>\n",
       "      <th>ReportedDateTime</th>\n",
       "      <th>ReportedYear</th>\n",
       "      <th>ReportedMonth</th>\n",
       "      <th>Location</th>\n",
       "      <th>WeaponUsed</th>\n",
       "      <th>ALD</th>\n",
       "      <th>NSP</th>\n",
       "      <th>POLICE</th>\n",
       "      <th>TRACT</th>\n",
       "      <th>WARD</th>\n",
       "      <th>ZIP</th>\n",
       "      <th>RoughX</th>\n",
       "      <th>RoughY</th>\n",
       "      <th>Arson</th>\n",
       "      <th>AssaultOffense</th>\n",
       "      <th>Burglary</th>\n",
       "      <th>CriminalDamage</th>\n",
       "      <th>Homicide</th>\n",
       "      <th>LockedVehicle</th>\n",
       "      <th>Robbery</th>\n",
       "      <th>SexOffense</th>\n",
       "      <th>Theft</th>\n",
       "      <th>VehicleTheft</th>\n",
       "      <th>Total</th>\n",
       "      <th>Violent</th>\n",
       "      <th>Property</th>\n",
       "    </tr>\n",
       "  </thead>\n",
       "  <tbody>\n",
       "    <tr>\n",
       "      <th>0</th>\n",
       "      <td>163020125</td>\n",
       "      <td>2016-10-28 19:55:00</td>\n",
       "      <td>2016</td>\n",
       "      <td>10</td>\n",
       "      <td>S 10TH ST / W GRANT ST</td>\n",
       "      <td>ROCK</td>\n",
       "      <td>NaN</td>\n",
       "      <td>NaN</td>\n",
       "      <td>NaN</td>\n",
       "      <td>NaN</td>\n",
       "      <td>NaN</td>\n",
       "      <td>NaN</td>\n",
       "      <td>NaN</td>\n",
       "      <td>NaN</td>\n",
       "      <td>0</td>\n",
       "      <td>0</td>\n",
       "      <td>0</td>\n",
       "      <td>1</td>\n",
       "      <td>0</td>\n",
       "      <td>0</td>\n",
       "      <td>0</td>\n",
       "      <td>0</td>\n",
       "      <td>0</td>\n",
       "      <td>0</td>\n",
       "      <td>2.0</td>\n",
       "      <td>0</td>\n",
       "      <td>2.0</td>\n",
       "    </tr>\n",
       "  </tbody>\n",
       "</table>\n",
       "</div>"
      ],
      "text/plain": [
       "  IncidentNum    ReportedDateTime  ReportedYear  ReportedMonth  \\\n",
       "0   163020125 2016-10-28 19:55:00          2016             10   \n",
       "\n",
       "                 Location WeaponUsed  ALD  NSP  POLICE  TRACT  WARD  ZIP  \\\n",
       "0  S 10TH ST / W GRANT ST       ROCK  NaN  NaN     NaN    NaN   NaN  NaN   \n",
       "\n",
       "   RoughX  RoughY  Arson  AssaultOffense  Burglary  CriminalDamage  Homicide  \\\n",
       "0     NaN     NaN      0               0         0               1         0   \n",
       "\n",
       "   LockedVehicle  Robbery  SexOffense  Theft  VehicleTheft  Total  Violent  \\\n",
       "0              0        0           0      0             0    2.0        0   \n",
       "\n",
       "   Property  \n",
       "0       2.0  "
      ]
     },
     "execution_count": 15,
     "metadata": {},
     "output_type": "execute_result"
    }
   ],
   "source": [
    "## add violent/property columns\n",
    "crime['Violent'] = crime.AssaultOffense + crime.Homicide\\\n",
    "                            + crime.Robbery + crime.SexOffense\n",
    "\n",
    "crime['Property'] = crime.Total - crime.Violent\n",
    "\n",
    "crime.head(1)"
   ]
  },
  {
   "cell_type": "code",
   "execution_count": 16,
   "id": "27767c9f",
   "metadata": {},
   "outputs": [],
   "source": [
    "# write to csv\n",
    "crime.to_csv(crime_data_dest + 'crime.csv', index=None)"
   ]
  },
  {
   "cell_type": "code",
   "execution_count": null,
   "id": "9b44731c",
   "metadata": {},
   "outputs": [],
   "source": []
  }
 ],
 "metadata": {
  "kernelspec": {
   "display_name": "Python 3",
   "language": "python",
   "name": "python3"
  },
  "language_info": {
   "codemirror_mode": {
    "name": "ipython",
    "version": 3
   },
   "file_extension": ".py",
   "mimetype": "text/x-python",
   "name": "python",
   "nbconvert_exporter": "python",
   "pygments_lexer": "ipython3",
   "version": "3.8.10"
  }
 },
 "nbformat": 4,
 "nbformat_minor": 5
}
